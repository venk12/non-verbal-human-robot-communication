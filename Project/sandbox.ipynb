{
 "cells": [
  {
   "cell_type": "code",
   "execution_count": 42,
   "metadata": {},
   "outputs": [],
   "source": [
    "import re\n",
    "\n",
    "# Define your mapping object as a dictionary where keys are substrings to find, and values are their replacements.\n",
    "substring_mapping = {\n",
    "    \"address\": \"headrest\",\n",
    "    \"head dress\": \"headrest\",\n",
    "    \"head rest\": \"headrest\",\n",
    "    \"food rest\": \"footrest\",\n",
    "    \"foot rest\": \"footrest\",\n",
    "    \"hatch rest\": \"headrest\",\n",
    "    \"had to rest\": \"headrest\",\n",
    "    \"food restaurant\": \"footrest\",\n",
    "    \"foodrestaurant\":\"footrest\"\n",
    "    # Add more mappings as needed\n",
    "}\n",
    "\n",
    "# Your content obtained from the listen.main() function\n",
    "content = \"move the had to rest bro\"\n",
    "\n",
    "# Function to replace substrings using regular expressions\n",
    "def replace_substrings(match):\n",
    "    # Get the matched substring\n",
    "    matched_substring = match.group(0)\n",
    "\n",
    "    # Look up the matched substring in the mapping, or keep it as is\n",
    "    replacement = substring_mapping.get(matched_substring, matched_substring)\n",
    "\n",
    "    return replacement\n",
    "\n",
    "# Use regular expressions to find and replace substrings\n",
    "pattern = re.compile(\"|\".join(re.escape(key) for key in substring_mapping.keys()))\n",
    "modified_content = pattern.sub(replace_substrings, content)"
   ]
  },
  {
   "cell_type": "code",
   "execution_count": 43,
   "metadata": {},
   "outputs": [
    {
     "data": {
      "text/plain": [
       "'move the headrest bro'"
      ]
     },
     "execution_count": 43,
     "metadata": {},
     "output_type": "execute_result"
    }
   ],
   "source": [
    "modified_content"
   ]
  }
 ],
 "metadata": {
  "kernelspec": {
   "display_name": "avenv",
   "language": "python",
   "name": "python3"
  },
  "language_info": {
   "codemirror_mode": {
    "name": "ipython",
    "version": 3
   },
   "file_extension": ".py",
   "mimetype": "text/x-python",
   "name": "python",
   "nbconvert_exporter": "python",
   "pygments_lexer": "ipython3",
   "version": "3.11.4"
  }
 },
 "nbformat": 4,
 "nbformat_minor": 2
}
