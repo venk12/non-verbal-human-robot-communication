{
 "cells": [
  {
   "cell_type": "code",
   "execution_count": 1,
   "metadata": {},
   "outputs": [
    {
     "name": "stdout",
     "output_type": "stream",
     "text": [
      "Microsoft Sound Mapper - Input\n",
      "Microphone Array (Intel® Smart \n",
      "Headset Microphone (Oculus Virt\n",
      "Microsoft Sound Mapper - Output\n",
      "Speakers (Realtek(R) Audio)\n",
      "Headphones (Oculus Virtual Audi\n",
      "Primary Sound Capture Driver\n",
      "Microphone Array (Intel® Smart Sound Technology for Digital Microphones)\n",
      "Headset Microphone (Oculus Virtual Audio Device)\n",
      "Primary Sound Driver\n",
      "Speakers (Realtek(R) Audio)\n",
      "Headphones (Oculus Virtual Audio Device)\n",
      "Speakers (Realtek(R) Audio)\n",
      "Headphones (Oculus Virtual Audio Device)\n",
      "Headset Microphone (Oculus Virtual Audio Device)\n",
      "Microphone Array (Intel® Smart Sound Technology for Digital Microphones)\n",
      "Output 1 (OCULUSVAD Wave Speaker Headphone)\n",
      "Output 2 (OCULUSVAD Wave Speaker Headphone)\n",
      "Input (OCULUSVAD Wave Speaker Headphone)\n",
      "Headset Microphone (OCULUSVAD Wave Microphone Headphone)\n",
      "Headphones 1 (Realtek HD Audio 2nd output with SST)\n",
      "Headphones 2 (Realtek HD Audio 2nd output with SST)\n",
      "PC Speaker (Realtek HD Audio 2nd output with SST)\n",
      "Speakers 1 (Realtek HD Audio output with SST)\n",
      "Speakers 2 (Realtek HD Audio output with SST)\n",
      "PC Speaker (Realtek HD Audio output with SST)\n",
      "Microphone (Realtek HD Audio Mic input)\n",
      "Stereo Mix (Realtek HD Audio Stereo input)\n",
      "Microphone Array 1 ()\n",
      "Microphone Array 2 ()\n",
      "Microphone Array 3 ()\n"
     ]
    }
   ],
   "source": [
    "import pyaudio\n",
    "p = pyaudio.PyAudio()\n",
    "for ii in range(p.get_device_count()):\n",
    "    print(p.get_device_info_by_index(ii).get('name'))"
   ]
  },
  {
   "cell_type": "code",
   "execution_count": 2,
   "metadata": {},
   "outputs": [
    {
     "ename": "OSError",
     "evalue": "[Errno -9998] Invalid number of channels",
     "output_type": "error",
     "traceback": [
      "\u001b[1;31m---------------------------------------------------------------------------\u001b[0m",
      "\u001b[1;31mOSError\u001b[0m                                   Traceback (most recent call last)",
      "\u001b[1;32mc:\\Users\\iamth\\Desktop\\Human Robot Communication\\NLC-Coursework\\sandbox\\main.ipynb Cell 2\u001b[0m line \u001b[0;36m1\n\u001b[0;32m     <a href='vscode-notebook-cell:/c%3A/Users/iamth/Desktop/Human%20Robot%20Communication/NLC-Coursework/sandbox/main.ipynb#W1sZmlsZQ%3D%3D?line=11'>12</a>\u001b[0m audio \u001b[39m=\u001b[39m pyaudio\u001b[39m.\u001b[39mPyAudio() \u001b[39m# create pyaudio instantiation\u001b[39;00m\n\u001b[0;32m     <a href='vscode-notebook-cell:/c%3A/Users/iamth/Desktop/Human%20Robot%20Communication/NLC-Coursework/sandbox/main.ipynb#W1sZmlsZQ%3D%3D?line=13'>14</a>\u001b[0m \u001b[39m# create pyaudio stream\u001b[39;00m\n\u001b[1;32m---> <a href='vscode-notebook-cell:/c%3A/Users/iamth/Desktop/Human%20Robot%20Communication/NLC-Coursework/sandbox/main.ipynb#W1sZmlsZQ%3D%3D?line=14'>15</a>\u001b[0m stream \u001b[39m=\u001b[39m audio\u001b[39m.\u001b[39;49mopen(\u001b[39mformat\u001b[39;49m \u001b[39m=\u001b[39;49m form_1,rate \u001b[39m=\u001b[39;49m samp_rate,channels \u001b[39m=\u001b[39;49m chans, \\\n\u001b[0;32m     <a href='vscode-notebook-cell:/c%3A/Users/iamth/Desktop/Human%20Robot%20Communication/NLC-Coursework/sandbox/main.ipynb#W1sZmlsZQ%3D%3D?line=15'>16</a>\u001b[0m                     input_device_index \u001b[39m=\u001b[39;49m dev_index,\u001b[39minput\u001b[39;49m \u001b[39m=\u001b[39;49m \u001b[39mTrue\u001b[39;49;00m, \\\n\u001b[0;32m     <a href='vscode-notebook-cell:/c%3A/Users/iamth/Desktop/Human%20Robot%20Communication/NLC-Coursework/sandbox/main.ipynb#W1sZmlsZQ%3D%3D?line=16'>17</a>\u001b[0m                     frames_per_buffer\u001b[39m=\u001b[39;49mchunk)\n\u001b[0;32m     <a href='vscode-notebook-cell:/c%3A/Users/iamth/Desktop/Human%20Robot%20Communication/NLC-Coursework/sandbox/main.ipynb#W1sZmlsZQ%3D%3D?line=17'>18</a>\u001b[0m \u001b[39mprint\u001b[39m(\u001b[39m\"\u001b[39m\u001b[39mrecording\u001b[39m\u001b[39m\"\u001b[39m)\n\u001b[0;32m     <a href='vscode-notebook-cell:/c%3A/Users/iamth/Desktop/Human%20Robot%20Communication/NLC-Coursework/sandbox/main.ipynb#W1sZmlsZQ%3D%3D?line=18'>19</a>\u001b[0m frames \u001b[39m=\u001b[39m []\n",
      "File \u001b[1;32mc:\\Users\\iamth\\anaconda3\\envs\\avenv\\Lib\\site-packages\\pyaudio\\__init__.py:639\u001b[0m, in \u001b[0;36mPyAudio.open\u001b[1;34m(self, *args, **kwargs)\u001b[0m\n\u001b[0;32m    631\u001b[0m \u001b[39mdef\u001b[39;00m \u001b[39mopen\u001b[39m(\u001b[39mself\u001b[39m, \u001b[39m*\u001b[39margs, \u001b[39m*\u001b[39m\u001b[39m*\u001b[39mkwargs):\n\u001b[0;32m    632\u001b[0m \u001b[39m    \u001b[39m\u001b[39m\"\"\"Opens a new stream.\u001b[39;00m\n\u001b[0;32m    633\u001b[0m \n\u001b[0;32m    634\u001b[0m \u001b[39m    See constructor for :py:func:`PyAudio.Stream.__init__` for parameter\u001b[39;00m\n\u001b[1;32m   (...)\u001b[0m\n\u001b[0;32m    637\u001b[0m \u001b[39m    :returns: A new :py:class:`PyAudio.Stream`\u001b[39;00m\n\u001b[0;32m    638\u001b[0m \u001b[39m    \"\"\"\u001b[39;00m\n\u001b[1;32m--> 639\u001b[0m     stream \u001b[39m=\u001b[39m PyAudio\u001b[39m.\u001b[39;49mStream(\u001b[39mself\u001b[39;49m, \u001b[39m*\u001b[39;49margs, \u001b[39m*\u001b[39;49m\u001b[39m*\u001b[39;49mkwargs)\n\u001b[0;32m    640\u001b[0m     \u001b[39mself\u001b[39m\u001b[39m.\u001b[39m_streams\u001b[39m.\u001b[39madd(stream)\n\u001b[0;32m    641\u001b[0m     \u001b[39mreturn\u001b[39;00m stream\n",
      "File \u001b[1;32mc:\\Users\\iamth\\anaconda3\\envs\\avenv\\Lib\\site-packages\\pyaudio\\__init__.py:441\u001b[0m, in \u001b[0;36mPyAudio.Stream.__init__\u001b[1;34m(self, PA_manager, rate, channels, format, input, output, input_device_index, output_device_index, frames_per_buffer, start, input_host_api_specific_stream_info, output_host_api_specific_stream_info, stream_callback)\u001b[0m\n\u001b[0;32m    438\u001b[0m     arguments[\u001b[39m'\u001b[39m\u001b[39mstream_callback\u001b[39m\u001b[39m'\u001b[39m] \u001b[39m=\u001b[39m stream_callback\n\u001b[0;32m    440\u001b[0m \u001b[39m# calling pa.open returns a stream object\u001b[39;00m\n\u001b[1;32m--> 441\u001b[0m \u001b[39mself\u001b[39m\u001b[39m.\u001b[39m_stream \u001b[39m=\u001b[39m pa\u001b[39m.\u001b[39;49mopen(\u001b[39m*\u001b[39;49m\u001b[39m*\u001b[39;49marguments)\n\u001b[0;32m    443\u001b[0m \u001b[39mself\u001b[39m\u001b[39m.\u001b[39m_input_latency \u001b[39m=\u001b[39m \u001b[39mself\u001b[39m\u001b[39m.\u001b[39m_stream\u001b[39m.\u001b[39minputLatency\n\u001b[0;32m    444\u001b[0m \u001b[39mself\u001b[39m\u001b[39m.\u001b[39m_output_latency \u001b[39m=\u001b[39m \u001b[39mself\u001b[39m\u001b[39m.\u001b[39m_stream\u001b[39m.\u001b[39moutputLatency\n",
      "\u001b[1;31mOSError\u001b[0m: [Errno -9998] Invalid number of channels"
     ]
    }
   ],
   "source": [
    "import pyaudio\n",
    "import wave\n",
    "\n",
    "form_1 = pyaudio.paInt16 # 16-bit resolution\n",
    "chans = 1 # 1 channel\n",
    "samp_rate = 44100 # 44.1kHz sampling rate\n",
    "chunk = 4096 # 2^12 samples for buffer\n",
    "record_secs = 3 # seconds to record\n",
    "dev_index = 9 # device index found by p.get_device_info_by_index(ii)\n",
    "wav_output_filename = 'test1.wav' # name of .wav file\n",
    "\n",
    "audio = pyaudio.PyAudio() # create pyaudio instantiation\n",
    "\n",
    "# create pyaudio stream\n",
    "stream = audio.open(format = form_1,rate = samp_rate,channels = chans, \\\n",
    "                    input_device_index = dev_index,input = True, \\\n",
    "                    frames_per_buffer=chunk)\n",
    "print(\"recording\")\n",
    "frames = []\n",
    "\n",
    "# loop through stream and append audio chunks to frame array\n",
    "for ii in range(0,int((samp_rate/chunk)*record_secs)):\n",
    "    data = stream.read(chunk)\n",
    "    frames.append(data)\n",
    "\n",
    "print(\"finished recording\")\n",
    "\n",
    "# stop the stream, close it, and terminate the pyaudio instantiation\n",
    "stream.stop_stream()\n",
    "stream.close()\n",
    "audio.terminate()\n",
    "\n",
    "# save the audio frames as .wav file\n",
    "wavefile = wave.open(wav_output_filename,'wb')\n",
    "wavefile.setnchannels(chans)\n",
    "wavefile.setsampwidth(audio.get_sample_size(form_1))\n",
    "wavefile.setframerate(samp_rate)\n",
    "wavefile.writeframes(b''.join(frames))\n",
    "wavefile.close()"
   ]
  },
  {
   "cell_type": "code",
   "execution_count": 1,
   "metadata": {},
   "outputs": [
    {
     "ename": "RuntimeError",
     "evalue": "The package 'dialogflow' has been renamed to 'google-cloud-dialogflow'. 'dialogflow' will no longer be updated. For help upgrading to google-cloud-dialogflow>=2.0.0, see https://github.com/googleapis/python-dialogflow/blob/master/UPGRADING.md. \n\nAfter October 28, 2021, importing code from the latest release of 'dialogflow' will result in a RuntimeError. If you need to continue to use 'dialogflow' after this date, please pin to a specific version of 'dialogflow' (e.g., dialogflow==1.1.1). If you have questions, please file an issue: https://github.com/googleapis/python-dialogflow/issues.",
     "output_type": "error",
     "traceback": [
      "\u001b[1;31m---------------------------------------------------------------------------\u001b[0m",
      "\u001b[1;31mRuntimeError\u001b[0m                              Traceback (most recent call last)",
      "\u001b[1;32mc:\\Users\\iamth\\Desktop\\Human Robot Communication\\NLC-Coursework\\sandbox\\main.ipynb Cell 3\u001b[0m line \u001b[0;36m6\n\u001b[0;32m      <a href='vscode-notebook-cell:/c%3A/Users/iamth/Desktop/Human%20Robot%20Communication/NLC-Coursework/sandbox/main.ipynb#W2sZmlsZQ%3D%3D?line=0'>1</a>\u001b[0m \u001b[39m\"\"\"Install the following requirements:\u001b[39;00m\n\u001b[0;32m      <a href='vscode-notebook-cell:/c%3A/Users/iamth/Desktop/Human%20Robot%20Communication/NLC-Coursework/sandbox/main.ipynb#W2sZmlsZQ%3D%3D?line=1'>2</a>\u001b[0m \u001b[39m    dialogflow        0.5.1\u001b[39;00m\n\u001b[0;32m      <a href='vscode-notebook-cell:/c%3A/Users/iamth/Desktop/Human%20Robot%20Communication/NLC-Coursework/sandbox/main.ipynb#W2sZmlsZQ%3D%3D?line=2'>3</a>\u001b[0m \u001b[39m    google-api-core   1.4.1\u001b[39;00m\n\u001b[0;32m      <a href='vscode-notebook-cell:/c%3A/Users/iamth/Desktop/Human%20Robot%20Communication/NLC-Coursework/sandbox/main.ipynb#W2sZmlsZQ%3D%3D?line=3'>4</a>\u001b[0m \u001b[39m\"\"\"\u001b[39;00m\n\u001b[0;32m      <a href='vscode-notebook-cell:/c%3A/Users/iamth/Desktop/Human%20Robot%20Communication/NLC-Coursework/sandbox/main.ipynb#W2sZmlsZQ%3D%3D?line=4'>5</a>\u001b[0m \u001b[39mimport\u001b[39;00m \u001b[39mos\u001b[39;00m\n\u001b[1;32m----> <a href='vscode-notebook-cell:/c%3A/Users/iamth/Desktop/Human%20Robot%20Communication/NLC-Coursework/sandbox/main.ipynb#W2sZmlsZQ%3D%3D?line=5'>6</a>\u001b[0m \u001b[39mimport\u001b[39;00m \u001b[39mdialogflow\u001b[39;00m\n\u001b[0;32m      <a href='vscode-notebook-cell:/c%3A/Users/iamth/Desktop/Human%20Robot%20Communication/NLC-Coursework/sandbox/main.ipynb#W2sZmlsZQ%3D%3D?line=6'>7</a>\u001b[0m \u001b[39mfrom\u001b[39;00m \u001b[39mgoogle\u001b[39;00m\u001b[39m.\u001b[39;00m\u001b[39mapi_core\u001b[39;00m\u001b[39m.\u001b[39;00m\u001b[39mexceptions\u001b[39;00m \u001b[39mimport\u001b[39;00m InvalidArgument\n\u001b[0;32m      <a href='vscode-notebook-cell:/c%3A/Users/iamth/Desktop/Human%20Robot%20Communication/NLC-Coursework/sandbox/main.ipynb#W2sZmlsZQ%3D%3D?line=8'>9</a>\u001b[0m os\u001b[39m.\u001b[39menviron[\u001b[39m\"\u001b[39m\u001b[39mGOOGLE_APPLICATION_CREDENTIALS\u001b[39m\u001b[39m\"\u001b[39m] \u001b[39m=\u001b[39m \u001b[39m'\u001b[39m\u001b[39mprivate_key.json\u001b[39m\u001b[39m'\u001b[39m\n",
      "File \u001b[1;32mc:\\Users\\iamth\\anaconda3\\envs\\avenv\\Lib\\site-packages\\dialogflow\\__init__.py:17\u001b[0m\n\u001b[0;32m      1\u001b[0m \u001b[39m# Copyright 2017, Google LLC\u001b[39;00m\n\u001b[0;32m      2\u001b[0m \u001b[39m#\u001b[39;00m\n\u001b[0;32m      3\u001b[0m \u001b[39m# Licensed under the Apache License, Version 2.0 (the \"License\");\u001b[39;00m\n\u001b[1;32m   (...)\u001b[0m\n\u001b[0;32m     12\u001b[0m \u001b[39m# See the License for the specific language governing permissions and\u001b[39;00m\n\u001b[0;32m     13\u001b[0m \u001b[39m# limitations under the License.\u001b[39;00m\n\u001b[0;32m     15\u001b[0m \u001b[39mfrom\u001b[39;00m \u001b[39m__future__\u001b[39;00m \u001b[39mimport\u001b[39;00m absolute_import\n\u001b[1;32m---> 17\u001b[0m \u001b[39mfrom\u001b[39;00m \u001b[39mdialogflow_v2\u001b[39;00m \u001b[39mimport\u001b[39;00m AgentsClient\n\u001b[0;32m     18\u001b[0m \u001b[39mfrom\u001b[39;00m \u001b[39mdialogflow_v2\u001b[39;00m \u001b[39mimport\u001b[39;00m ContextsClient\n\u001b[0;32m     19\u001b[0m \u001b[39mfrom\u001b[39;00m \u001b[39mdialogflow_v2\u001b[39;00m \u001b[39mimport\u001b[39;00m EntityTypesClient\n",
      "File \u001b[1;32mc:\\Users\\iamth\\anaconda3\\envs\\avenv\\Lib\\site-packages\\dialogflow_v2\\__init__.py:53\u001b[0m\n\u001b[0;32m     39\u001b[0m     warnings\u001b[39m.\u001b[39mwarn(message, \u001b[39mDeprecationWarning\u001b[39;00m)\n\u001b[0;32m     41\u001b[0m package_deprecation_message \u001b[39m=\u001b[39m (\n\u001b[0;32m     42\u001b[0m     \u001b[39m\"\u001b[39m\u001b[39mThe package \u001b[39m\u001b[39m'\u001b[39m\u001b[39mdialogflow\u001b[39m\u001b[39m'\u001b[39m\u001b[39m has been renamed to \u001b[39m\u001b[39m'\u001b[39m\u001b[39mgoogle-cloud-dialogflow\u001b[39m\u001b[39m'\u001b[39m\u001b[39m. \u001b[39m\u001b[39m\"\u001b[39m\n\u001b[0;32m     43\u001b[0m     \u001b[39m\"\u001b[39m\u001b[39m'\u001b[39m\u001b[39mdialogflow\u001b[39m\u001b[39m'\u001b[39m\u001b[39m will no longer be updated. \u001b[39m\u001b[39m\"\u001b[39m\n\u001b[1;32m   (...)\u001b[0m\n\u001b[0;32m     50\u001b[0m     \u001b[39m\"\u001b[39m\u001b[39mhttps://github.com/googleapis/python-dialogflow/issues.\u001b[39m\u001b[39m\"\u001b[39m\n\u001b[0;32m     51\u001b[0m )\n\u001b[1;32m---> 53\u001b[0m \u001b[39mraise\u001b[39;00m \u001b[39mRuntimeError\u001b[39;00m(\n\u001b[0;32m     54\u001b[0m     package_deprecation_message\n\u001b[0;32m     55\u001b[0m )\n\u001b[0;32m     58\u001b[0m \u001b[39mclass\u001b[39;00m \u001b[39mAgentsClient\u001b[39;00m(agents_client\u001b[39m.\u001b[39mAgentsClient):\n\u001b[0;32m     59\u001b[0m     \u001b[39m__doc__\u001b[39m \u001b[39m=\u001b[39m agents_client\u001b[39m.\u001b[39mAgentsClient\u001b[39m.\u001b[39m\u001b[39m__doc__\u001b[39m\n",
      "\u001b[1;31mRuntimeError\u001b[0m: The package 'dialogflow' has been renamed to 'google-cloud-dialogflow'. 'dialogflow' will no longer be updated. For help upgrading to google-cloud-dialogflow>=2.0.0, see https://github.com/googleapis/python-dialogflow/blob/master/UPGRADING.md. \n\nAfter October 28, 2021, importing code from the latest release of 'dialogflow' will result in a RuntimeError. If you need to continue to use 'dialogflow' after this date, please pin to a specific version of 'dialogflow' (e.g., dialogflow==1.1.1). If you have questions, please file an issue: https://github.com/googleapis/python-dialogflow/issues."
     ]
    }
   ],
   "source": []
  }
 ],
 "metadata": {
  "kernelspec": {
   "display_name": "avenv",
   "language": "python",
   "name": "python3"
  },
  "language_info": {
   "codemirror_mode": {
    "name": "ipython",
    "version": 3
   },
   "file_extension": ".py",
   "mimetype": "text/x-python",
   "name": "python",
   "nbconvert_exporter": "python",
   "pygments_lexer": "ipython3",
   "version": "3.11.4"
  },
  "orig_nbformat": 4
 },
 "nbformat": 4,
 "nbformat_minor": 2
}
